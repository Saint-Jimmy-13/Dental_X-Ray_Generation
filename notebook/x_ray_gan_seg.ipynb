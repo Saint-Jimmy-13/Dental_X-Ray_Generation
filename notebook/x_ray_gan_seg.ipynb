{
  "nbformat": 4,
  "nbformat_minor": 0,
  "metadata": {
    "colab": {
      "provenance": []
    },
    "kernelspec": {
      "name": "python3",
      "display_name": "Python 3"
    },
    "language_info": {
      "name": "python"
    }
  },
  "cells": [
    {
      "cell_type": "markdown",
      "source": [
        "# **Synthetic Dental X-Ray Generation and Segmentation Analysis**"
      ],
      "metadata": {
        "id": "u0m-F0njto2w"
      }
    },
    {
      "cell_type": "code",
      "execution_count": null,
      "metadata": {
        "id": "bBQSXDQqtnbI"
      },
      "outputs": [],
      "source": []
    }
  ]
}